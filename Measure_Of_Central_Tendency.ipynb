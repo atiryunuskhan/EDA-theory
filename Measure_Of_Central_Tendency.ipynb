{
  "nbformat": 4,
  "nbformat_minor": 0,
  "metadata": {
    "colab": {
      "provenance": [],
      "authorship_tag": "ABX9TyM6HbHMG7k1fns0Njo9wB2j",
      "include_colab_link": true
    },
    "kernelspec": {
      "name": "python3",
      "display_name": "Python 3"
    },
    "language_info": {
      "name": "python"
    }
  },
  "cells": [
    {
      "cell_type": "markdown",
      "metadata": {
        "id": "view-in-github",
        "colab_type": "text"
      },
      "source": [
        "<a href=\"https://colab.research.google.com/github/atiryunuskhan/EDA-theory/blob/main/Measure_Of_Central_Tendency.ipynb\" target=\"_parent\"><img src=\"https://colab.research.google.com/assets/colab-badge.svg\" alt=\"Open In Colab\"/></a>"
      ]
    },
    {
      "cell_type": "code",
      "execution_count": 1,
      "metadata": {
        "colab": {
          "base_uri": "https://localhost:8080/"
        },
        "id": "VtEKE_QkaCbf",
        "outputId": "39ce4950-6ab2-4335-ca3b-b0c9a9f3b3aa"
      },
      "outputs": [
        {
          "output_type": "stream",
          "name": "stdout",
          "text": [
            "Arithmetic Mean: 5.0\n",
            "Median: 4.5\n",
            "Mode: 4\n",
            "Harmonic Mean: 4.2017507294706125\n",
            "Geometric Mean: 4.603215596046736\n",
            "Quadratic Mean: 5.385164807134504\n",
            "Alpha Mean: 4.802727491538916\n",
            "Quantiles (25%, 50%, 75%): [4.  4.5 5.5]\n",
            "Quartiles: [4.  4.5 5.5]\n",
            "Deciles: [2.  3.4 4.  4.  4.  4.5 5.  5.  6.2 7.6 9. ]\n"
          ]
        }
      ],
      "source": [
        "# Atir Yunus Khan (21BCE2707)\n",
        "\n",
        "import numpy as np\n",
        "import statistics\n",
        "from scipy import stats\n",
        "\n",
        "data = [2, 4, 4, 4, 5, 5, 7, 9]\n",
        "\n",
        "# Arithmetic Mean\n",
        "arithmetic_mean = np.mean(data)\n",
        "\n",
        "# Median\n",
        "median = np.median(data)\n",
        "\n",
        "# Mode\n",
        "mode = statistics.mode(data)\n",
        "\n",
        "# Harmonic Mean\n",
        "harmonic_mean = statistics.harmonic_mean(data)\n",
        "\n",
        "# Geometric Mean\n",
        "geometric_mean = stats.gmean(data)\n",
        "\n",
        "# Quadratic Mean (Root Mean Square)\n",
        "quadratic_mean = np.sqrt(np.mean(np.square(data)))\n",
        "\n",
        "# Alpha Mean (for example, alpha = 0.5)\n",
        "alpha = 0.5\n",
        "alpha_mean = np.mean([x**alpha for x in data]) ** (1/alpha)\n",
        "\n",
        "# Quantiles (0.25, 0.5, 0.75 by default)\n",
        "quantiles = np.quantile(data, [0.25, 0.5, 0.75])\n",
        "\n",
        "# Quartiles\n",
        "quartiles = np.percentile(data, [25, 50, 75])\n",
        "\n",
        "# Deciles (splitting the data into 10 equal parts)\n",
        "deciles = np.percentile(data, np.arange(0, 101, 10))\n",
        "\n",
        "# Display the results\n",
        "print(f\"Arithmetic Mean: {arithmetic_mean}\")\n",
        "print(f\"Median: {median}\")\n",
        "print(f\"Mode: {mode}\")\n",
        "print(f\"Harmonic Mean: {harmonic_mean}\")\n",
        "print(f\"Geometric Mean: {geometric_mean}\")\n",
        "print(f\"Quadratic Mean: {quadratic_mean}\")\n",
        "print(f\"Alpha Mean: {alpha_mean}\")\n",
        "print(f\"Quantiles (25%, 50%, 75%): {quantiles}\")\n",
        "print(f\"Quartiles: {quartiles}\")\n",
        "print(f\"Deciles: {deciles}\")\n"
      ]
    },
    {
      "cell_type": "code",
      "source": [],
      "metadata": {
        "id": "SkRgeOkuaO9R"
      },
      "execution_count": null,
      "outputs": []
    }
  ]
}